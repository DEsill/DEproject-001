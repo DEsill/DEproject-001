{
 "cells": [
  {
   "cell_type": "code",
   "execution_count": 1,
   "metadata": {},
   "outputs": [],
   "source": [
    "from pyspark.sql import SparkSession\n",
    "spark = SparkSession.builder.master(\"local[*]\").getOrCreate()"
   ]
  },
  {
   "cell_type": "code",
   "execution_count": 4,
   "metadata": {},
   "outputs": [],
   "source": [
    "dt = spark.read.csv('ws2_data.csv', header = True, inferSchema = True, )"
   ]
  },
  {
   "cell_type": "code",
   "execution_count": 11,
   "metadata": {},
   "outputs": [
    {
     "name": "stdout",
     "output_type": "stream",
     "text": [
      "+-------------------+--------+-------+--------------------+-----+\n",
      "|          timestamp| user_id|book_id|             country|price|\n",
      "+-------------------+--------+-------+--------------------+-----+\n",
      "|2021-05-01 08:03:44|824dc295|      2|              Israel|24.95|\n",
      "|2021-05-02 02:48:34|f80fe106|      6|            Thailand|31.49|\n",
      "|2021-05-01 16:54:57|01cb9fe0|      9|               Italy|29.65|\n",
      "|2021-05-01 21:45:28|59508f47|     13|        South Africa| 22.4|\n",
      "|2021-05-01 14:50:52|3553ebbb|     14|              Canada| 28.0|\n",
      "|2021-05-01 08:41:48|ea28260a|     16|United States of ...|31.18|\n",
      "|2021-05-01 05:51:43|ff44767e|     18|United States of ...|59.99|\n",
      "|2021-05-01 00:01:09|b07799e7|     20|              Canada| 28.0|\n",
      "|2021-05-01 00:21:24|9d2e93c8|     20|             Hungary| 28.0|\n",
      "|2021-05-01 01:34:23|612db483|     20|              Sweden| 28.0|\n",
      "|2021-05-01 01:42:10|afad01ae|     20|              France| 28.0|\n",
      "|2021-05-01 03:38:00|3b68cda1|     20|              Canada| 28.0|\n",
      "|2021-05-01 04:32:25|c9a899f6|     20|United States of ...| 28.0|\n",
      "|2021-05-01 04:48:06|d15f0e77|     20|United States of ...| 28.0|\n",
      "|2021-05-01 05:00:49|032e717b|     20|              Turkey| 28.0|\n",
      "|2021-05-01 06:20:44|a8558738|     20|United States of ...| 28.0|\n",
      "|2021-05-01 06:46:35|b0ef795f|     20|         Philippines| 28.0|\n",
      "|2021-05-01 07:33:54|c46cc3da|     20|United States of ...| 28.0|\n",
      "|2021-05-01 09:14:11|54bd51eb|     20|              Brazil| 28.0|\n",
      "|2021-05-01 10:01:44|c52587cc|     20|              Canada| 28.0|\n",
      "+-------------------+--------+-------+--------------------+-----+\n",
      "only showing top 20 rows\n",
      "\n",
      "None\n"
     ]
    }
   ],
   "source": [
    "print(dt.show())"
   ]
  },
  {
   "cell_type": "code",
   "execution_count": 12,
   "metadata": {},
   "outputs": [
    {
     "name": "stdout",
     "output_type": "stream",
     "text": [
      "+-------+---------+-------+-------+-------+------+\n",
      "|summary|timestamp|user_id|book_id|country| price|\n",
      "+-------+---------+-------+-------+-------+------+\n",
      "|  count|   500000| 499998| 500000| 500000|500000|\n",
      "+-------+---------+-------+-------+-------+------+\n",
      "\n",
      "None\n"
     ]
    }
   ],
   "source": [
    "# Data Profiling\n",
    "print(dt.summary(\"count\").show())"
   ]
  },
  {
   "cell_type": "code",
   "execution_count": 13,
   "metadata": {},
   "outputs": [
    {
     "name": "stdout",
     "output_type": "stream",
     "text": [
      "+-------------------+-------+-------+-------+-----+\n",
      "|          timestamp|user_id|book_id|country|price|\n",
      "+-------------------+-------+-------+-------+-----+\n",
      "|2021-05-01 14:41:20|   null|    516| Brazil|27.37|\n",
      "|2021-06-30 02:27:00|   null|   1390|  Japan|27.99|\n",
      "+-------------------+-------+-------+-------+-----+\n",
      "\n",
      "None\n"
     ]
    }
   ],
   "source": [
    "print(dt.where( dt.user_id.isNull()).show())"
   ]
  },
  {
   "cell_type": "code",
   "execution_count": 14,
   "metadata": {},
   "outputs": [
    {
     "name": "stdout",
     "output_type": "stream",
     "text": [
      "root\n",
      " |-- timestamp: string (nullable = true)\n",
      " |-- user_id: string (nullable = true)\n",
      " |-- book_id: integer (nullable = true)\n",
      " |-- country: string (nullable = true)\n",
      " |-- price: double (nullable = true)\n",
      "\n",
      "None\n"
     ]
    }
   ],
   "source": [
    "print(dt.printSchema())"
   ]
  },
  {
   "cell_type": "code",
   "execution_count": 17,
   "metadata": {},
   "outputs": [
    {
     "name": "stdout",
     "output_type": "stream",
     "text": [
      "root\n",
      " |-- timestamp: timestamp (nullable = true)\n",
      " |-- user_id: string (nullable = true)\n",
      " |-- book_id: integer (nullable = true)\n",
      " |-- country: string (nullable = true)\n",
      " |-- price: double (nullable = true)\n",
      "\n",
      "None\n"
     ]
    }
   ],
   "source": [
    "# Data Cleansing 01\n",
    "# เปลี่ยน timestamp จาก String เป็น Datetime เพื่อให้เราสามารถเล่นกับเวลาและวันที่ได้\n",
    "from pyspark.sql import functions as f\n",
    "\n",
    "dt_clean = dt.withColumn(\"timestamp\",\n",
    "                        f.to_timestamp(dt.timestamp, 'yyyy-mm-dd HH:mm:ss')\n",
    "                        )\n",
    "print(dt_clean.printSchema())"
   ]
  },
  {
   "cell_type": "code",
   "execution_count": 18,
   "metadata": {},
   "outputs": [
    {
     "name": "stdout",
     "output_type": "stream",
     "text": [
      "58\n"
     ]
    }
   ],
   "source": [
    "# หา Lexical errors จาก Column Country\n",
    "print(dt_clean.select(\"country\").distinct().count())"
   ]
  },
  {
   "cell_type": "code",
   "execution_count": 19,
   "metadata": {},
   "outputs": [
    {
     "name": "stdout",
     "output_type": "stream",
     "text": [
      "+------------------------+\n",
      "|Country                 |\n",
      "+------------------------+\n",
      "|Algeria                 |\n",
      "|Argentina               |\n",
      "|Australia               |\n",
      "|Austria                 |\n",
      "|Bahamas                 |\n",
      "|Belgium                 |\n",
      "|Brazil                  |\n",
      "|Canada                  |\n",
      "|China                   |\n",
      "|Colombia                |\n",
      "|Croatia                 |\n",
      "|Denmark                 |\n",
      "|Dubai                   |\n",
      "|Egypt                   |\n",
      "|Estonia                 |\n",
      "|Finland                 |\n",
      "|France                  |\n",
      "|Germany                 |\n",
      "|Greece                  |\n",
      "|Hungary                 |\n",
      "|India                   |\n",
      "|Indonesia               |\n",
      "|Ireland                 |\n",
      "|Israel                  |\n",
      "|Italy                   |\n",
      "|Jamaica                 |\n",
      "|Japan                   |\n",
      "|Japane                  |\n",
      "|Kenya                   |\n",
      "|Kuwait                  |\n",
      "|Malaysia                |\n",
      "|Maldives                |\n",
      "|Mexico                  |\n",
      "|Montenegro              |\n",
      "|Netherlands             |\n",
      "|New Zealand             |\n",
      "|Nigeria                 |\n",
      "|Norway                  |\n",
      "|Pakistan                |\n",
      "|Peru                    |\n",
      "|Philippines             |\n",
      "|Poland                  |\n",
      "|Portugal                |\n",
      "|Serbia                  |\n",
      "|Singapore               |\n",
      "|Slovakia                |\n",
      "|South Africa            |\n",
      "|South Korea             |\n",
      "|Spain                   |\n",
      "|Sweden                  |\n",
      "|Switzerland             |\n",
      "|Taiwan                  |\n",
      "|Thailand                |\n",
      "|Turkey                  |\n",
      "|United Kingdom          |\n",
      "|United States of America|\n",
      "|Vietnam                 |\n",
      "|Yemen                   |\n",
      "+------------------------+\n",
      "\n",
      "None\n"
     ]
    }
   ],
   "source": [
    "print(dt_clean.select(\"Country\").distinct().sort(\"Country\").show(58, False))"
   ]
  }
 ],
 "metadata": {
  "interpreter": {
   "hash": "a42ccb73e7d9bfdf27e036f1d2b8b681e55fc0743cc5586bc2474d4a60f4b886"
  },
  "kernelspec": {
   "display_name": "Python 3.10.4 64-bit",
   "language": "python",
   "name": "python3"
  },
  "language_info": {
   "codemirror_mode": {
    "name": "ipython",
    "version": 3
   },
   "file_extension": ".py",
   "mimetype": "text/x-python",
   "name": "python",
   "nbconvert_exporter": "python",
   "pygments_lexer": "ipython3",
   "version": "3.10.4"
  },
  "orig_nbformat": 4
 },
 "nbformat": 4,
 "nbformat_minor": 2
}
