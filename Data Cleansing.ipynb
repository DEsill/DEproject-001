{
 "cells": [
  {
   "cell_type": "code",
   "execution_count": 1,
   "metadata": {},
   "outputs": [],
   "source": [
    "from pyspark.sql import SparkSession\n",
    "spark = SparkSession.builder.master(\"local[*]\").getOrCreate()"
   ]
  },
  {
   "cell_type": "code",
   "execution_count": 4,
   "metadata": {},
   "outputs": [],
   "source": [
    "dt = spark.read.csv('ws2_data.csv', header = True, inferSchema = True, )"
   ]
  },
  {
   "cell_type": "code",
   "execution_count": 58,
   "metadata": {},
   "outputs": [
    {
     "name": "stdout",
     "output_type": "stream",
     "text": [
      "+-------------------+--------+-------+--------------------+-----+\n",
      "|          timestamp| user_id|book_id|             country|price|\n",
      "+-------------------+--------+-------+--------------------+-----+\n",
      "|2021-05-01 08:03:44|824dc295|      2|              Israel|24.95|\n",
      "|2021-05-02 02:48:34|f80fe106|      6|            Thailand|31.49|\n",
      "|2021-05-01 16:54:57|01cb9fe0|      9|               Italy|29.65|\n",
      "|2021-05-01 21:45:28|59508f47|     13|        South Africa| 22.4|\n",
      "|2021-05-01 14:50:52|3553ebbb|     14|              Canada| 28.0|\n",
      "|2021-05-01 08:41:48|ea28260a|     16|United States of ...|31.18|\n",
      "|2021-05-01 05:51:43|ff44767e|     18|United States of ...|59.99|\n",
      "|2021-05-01 00:01:09|b07799e7|     20|              Canada| 28.0|\n",
      "|2021-05-01 00:21:24|9d2e93c8|     20|             Hungary| 28.0|\n",
      "|2021-05-01 01:34:23|612db483|     20|              Sweden| 28.0|\n",
      "|2021-05-01 01:42:10|afad01ae|     20|              France| 28.0|\n",
      "|2021-05-01 03:38:00|3b68cda1|     20|              Canada| 28.0|\n",
      "|2021-05-01 04:32:25|c9a899f6|     20|United States of ...| 28.0|\n",
      "|2021-05-01 04:48:06|d15f0e77|     20|United States of ...| 28.0|\n",
      "|2021-05-01 05:00:49|032e717b|     20|              Turkey| 28.0|\n",
      "|2021-05-01 06:20:44|a8558738|     20|United States of ...| 28.0|\n",
      "|2021-05-01 06:46:35|b0ef795f|     20|         Philippines| 28.0|\n",
      "|2021-05-01 07:33:54|c46cc3da|     20|United States of ...| 28.0|\n",
      "|2021-05-01 09:14:11|54bd51eb|     20|              Brazil| 28.0|\n",
      "|2021-05-01 10:01:44|c52587cc|     20|              Canada| 28.0|\n",
      "+-------------------+--------+-------+--------------------+-----+\n",
      "only showing top 20 rows\n",
      "\n"
     ]
    }
   ],
   "source": [
    "dt.show()"
   ]
  },
  {
   "cell_type": "code",
   "execution_count": 59,
   "metadata": {},
   "outputs": [
    {
     "name": "stdout",
     "output_type": "stream",
     "text": [
      "+-------+---------+-------+-------+-------+------+\n",
      "|summary|timestamp|user_id|book_id|country| price|\n",
      "+-------+---------+-------+-------+-------+------+\n",
      "|  count|   500000| 499998| 500000| 500000|500000|\n",
      "+-------+---------+-------+-------+-------+------+\n",
      "\n"
     ]
    }
   ],
   "source": [
    "# Data Profiling\n",
    "dt.summary(\"count\").show()"
   ]
  },
  {
   "cell_type": "code",
   "execution_count": 60,
   "metadata": {},
   "outputs": [
    {
     "name": "stdout",
     "output_type": "stream",
     "text": [
      "+-------------------+-------+-------+-------+-----+\n",
      "|          timestamp|user_id|book_id|country|price|\n",
      "+-------------------+-------+-------+-------+-----+\n",
      "|2021-05-01 14:41:20|   null|    516| Brazil|27.37|\n",
      "|2021-06-30 02:27:00|   null|   1390|  Japan|27.99|\n",
      "+-------------------+-------+-------+-------+-----+\n",
      "\n"
     ]
    }
   ],
   "source": [
    "dt.where( dt.user_id.isNull()).show()"
   ]
  },
  {
   "cell_type": "code",
   "execution_count": 61,
   "metadata": {},
   "outputs": [
    {
     "name": "stdout",
     "output_type": "stream",
     "text": [
      "root\n",
      " |-- timestamp: string (nullable = true)\n",
      " |-- user_id: string (nullable = true)\n",
      " |-- book_id: integer (nullable = true)\n",
      " |-- country: string (nullable = true)\n",
      " |-- price: double (nullable = true)\n",
      "\n"
     ]
    }
   ],
   "source": [
    "dt.printSchema()"
   ]
  },
  {
   "cell_type": "code",
   "execution_count": 62,
   "metadata": {},
   "outputs": [
    {
     "name": "stdout",
     "output_type": "stream",
     "text": [
      "root\n",
      " |-- timestamp: timestamp (nullable = true)\n",
      " |-- user_id: string (nullable = true)\n",
      " |-- book_id: integer (nullable = true)\n",
      " |-- country: string (nullable = true)\n",
      " |-- price: double (nullable = true)\n",
      "\n"
     ]
    }
   ],
   "source": [
    "# Data Cleansing 01\n",
    "# เปลี่ยน timestamp จาก String เป็น Datetime เพื่อให้เราสามารถเล่นกับเวลาและวันที่ได้\n",
    "from pyspark.sql import functions as f\n",
    "\n",
    "dt_clean = dt.withColumn(\"timestamp\",\n",
    "                        f.to_timestamp(dt.timestamp, 'yyyy-mm-dd HH:mm:ss')\n",
    "                        )\n",
    "dt_clean.printSchema()"
   ]
  },
  {
   "cell_type": "code",
   "execution_count": 63,
   "metadata": {},
   "outputs": [
    {
     "data": {
      "text/plain": [
       "58"
      ]
     },
     "execution_count": 63,
     "metadata": {},
     "output_type": "execute_result"
    }
   ],
   "source": [
    "# หา Lexical errors จาก Column Country\n",
    "dt_clean.select(\"country\").distinct().count()"
   ]
  },
  {
   "cell_type": "code",
   "execution_count": 70,
   "metadata": {},
   "outputs": [
    {
     "name": "stdout",
     "output_type": "stream",
     "text": [
      "+--------------------+\n",
      "|             Country|\n",
      "+--------------------+\n",
      "|             Algeria|\n",
      "|           Argentina|\n",
      "|           Australia|\n",
      "|             Austria|\n",
      "|             Bahamas|\n",
      "|             Belgium|\n",
      "|              Brazil|\n",
      "|              Canada|\n",
      "|               China|\n",
      "|            Colombia|\n",
      "|             Croatia|\n",
      "|             Denmark|\n",
      "|               Dubai|\n",
      "|               Egypt|\n",
      "|             Estonia|\n",
      "|             Finland|\n",
      "|              France|\n",
      "|             Germany|\n",
      "|              Greece|\n",
      "|             Hungary|\n",
      "|               India|\n",
      "|           Indonesia|\n",
      "|             Ireland|\n",
      "|              Israel|\n",
      "|               Italy|\n",
      "|             Jamaica|\n",
      "|               Japan|\n",
      "|              Japane|\n",
      "|               Kenya|\n",
      "|              Kuwait|\n",
      "|            Malaysia|\n",
      "|            Maldives|\n",
      "|              Mexico|\n",
      "|          Montenegro|\n",
      "|         Netherlands|\n",
      "|         New Zealand|\n",
      "|             Nigeria|\n",
      "|              Norway|\n",
      "|            Pakistan|\n",
      "|                Peru|\n",
      "|         Philippines|\n",
      "|              Poland|\n",
      "|            Portugal|\n",
      "|              Serbia|\n",
      "|           Singapore|\n",
      "|            Slovakia|\n",
      "|        South Africa|\n",
      "|         South Korea|\n",
      "|               Spain|\n",
      "|              Sweden|\n",
      "|         Switzerland|\n",
      "|              Taiwan|\n",
      "|            Thailand|\n",
      "|              Turkey|\n",
      "|      United Kingdom|\n",
      "|United States of ...|\n",
      "|             Vietnam|\n",
      "|               Yemen|\n",
      "+--------------------+\n",
      "\n"
     ]
    }
   ],
   "source": [
    "# ใช้ Spark SQL ในการดึงข้อมูลจาก Spark DataFrame\n",
    "dt.createOrReplaceTempView(\"data\")\n",
    "dt_sql_country = spark.sql(\"\"\"\n",
    "SELECT DISTINCT country\n",
    "FROM data\n",
    "ORDER BY country\n",
    "\"\"\")\n",
    "dt_sql_country.show(58)"
   ]
  },
  {
   "cell_type": "code",
   "execution_count": 74,
   "metadata": {},
   "outputs": [
    {
     "name": "stdout",
     "output_type": "stream",
     "text": [
      "+-------------------+--------+-------+-------+-----+\n",
      "|          timestamp| user_id|book_id|country|price|\n",
      "+-------------------+--------+-------+-------+-----+\n",
      "|2021-05-01 13:11:11|a904217a|   1129| Japane|29.65|\n",
      "|2021-05-02 10:27:42|a6052e97|   1466| Japane| 35.0|\n",
      "|2021-05-04 10:44:41|a0f44c26|   1497| Japane|17.49|\n",
      "|2021-05-04 05:40:46|ad0f9907|   2269| Japane|35.71|\n",
      "|2021-05-05 01:08:25|aa169f5d|   1378| Japane|59.93|\n",
      "|2021-05-04 17:42:32|a28e3c68|   1411| Japane|29.99|\n",
      "|2021-05-05 16:29:39|a909212e|   1652| Japane|24.99|\n",
      "|2021-05-06 23:10:29|a7b05d98|   1420| Japane|30.79|\n",
      "|2021-05-07 22:18:42|a169255e|   1459| Japane|25.08|\n",
      "|2021-05-08 06:06:15|ab2159d6|   1035| Japane|22.67|\n",
      "|2021-05-09 02:46:06|a6cba2fc|   1928| Japane|  7.0|\n",
      "|2021-05-09 12:12:35|a0e31842|   1358| Japane|34.99|\n",
      "|2021-05-11 16:33:19|a2bc5460|   1616| Japane|29.65|\n",
      "|2021-05-12 22:32:52|af75e4d1|   1603| Japane|18.89|\n",
      "|2021-05-12 19:14:33|a0accb45|   1934| Japane| 1.95|\n",
      "|2021-05-13 05:23:12|abfe1e79|   1368| Japane|47.93|\n",
      "|2021-05-13 01:36:34|adfae803|   1512| Japane| 28.0|\n",
      "|2021-05-16 04:30:44|a71dfe3f|   1494| Japane|48.99|\n",
      "|2021-05-17 11:14:58|a4c531fc|   1336| Japane|44.99|\n",
      "|2021-05-17 04:26:45|a33e4db6|   1418| Japane| 33.6|\n",
      "+-------------------+--------+-------+-------+-----+\n",
      "only showing top 20 rows\n",
      "\n"
     ]
    }
   ],
   "source": [
    "# จะเห็นว่ามีประเทศ Japane ซึ่งไม่มีอยู่จริงและน่าจะหมายถึงประเทศ Japan \n",
    "# เมื่อลองเรียกข้อมูลประเทศ Japane ออกมาดูจะเห็นว่ามีข้อมุลที่กรอกผิดไม่น้อย\n",
    "\n",
    "dt_sql_japane = spark.sql(\"\"\"\n",
    "SELECT * \n",
    "FROM data\n",
    "WHERE country = 'Japane'\n",
    "\"\"\")\n",
    "dt_sql_japane.show()"
   ]
  },
  {
   "cell_type": "code",
   "execution_count": 82,
   "metadata": {},
   "outputs": [
    {
     "name": "stdout",
     "output_type": "stream",
     "text": [
      "+--------------------+\n",
      "|             country|\n",
      "+--------------------+\n",
      "|             Algeria|\n",
      "|           Argentina|\n",
      "|           Australia|\n",
      "|             Austria|\n",
      "|             Bahamas|\n",
      "|             Belgium|\n",
      "|              Brazil|\n",
      "|              Canada|\n",
      "|               China|\n",
      "|            Colombia|\n",
      "|             Croatia|\n",
      "|             Denmark|\n",
      "|               Dubai|\n",
      "|               Egypt|\n",
      "|             Estonia|\n",
      "|             Finland|\n",
      "|              France|\n",
      "|             Germany|\n",
      "|              Greece|\n",
      "|             Hungary|\n",
      "|               India|\n",
      "|           Indonesia|\n",
      "|             Ireland|\n",
      "|              Israel|\n",
      "|               Italy|\n",
      "|             Jamaica|\n",
      "|               Japan|\n",
      "|               Kenya|\n",
      "|              Kuwait|\n",
      "|            Malaysia|\n",
      "|            Maldives|\n",
      "|              Mexico|\n",
      "|          Montenegro|\n",
      "|         Netherlands|\n",
      "|         New Zealand|\n",
      "|             Nigeria|\n",
      "|              Norway|\n",
      "|            Pakistan|\n",
      "|                Peru|\n",
      "|         Philippines|\n",
      "|              Poland|\n",
      "|            Portugal|\n",
      "|              Serbia|\n",
      "|           Singapore|\n",
      "|            Slovakia|\n",
      "|        South Africa|\n",
      "|         South Korea|\n",
      "|               Spain|\n",
      "|              Sweden|\n",
      "|         Switzerland|\n",
      "|              Taiwan|\n",
      "|            Thailand|\n",
      "|              Turkey|\n",
      "|      United Kingdom|\n",
      "|United States of ...|\n",
      "|             Vietnam|\n",
      "|               Yemen|\n",
      "+--------------------+\n",
      "\n"
     ]
    }
   ],
   "source": [
    "# แก้ไขจาก Japane เป็น Japan\n",
    "dt_sql_result = spark.sql(\"\"\"\n",
    "SELECT timestamp, user_id, book_id,\n",
    "    CASE WHEN country = 'Japane' THEN 'Japan' ELSE country END AS country,\n",
    "price\n",
    "FROM data\n",
    "\"\"\")\n",
    "dt_sql_result.select(\"country\").distinct().sort(\"country\").show(58)"
   ]
  },
  {
   "cell_type": "code",
   "execution_count": 83,
   "metadata": {},
   "outputs": [
    {
     "name": "stdout",
     "output_type": "stream",
     "text": [
      "+-------------------+----------+-------+--------------------+-----+\n",
      "|          timestamp|   user_id|book_id|             country|price|\n",
      "+-------------------+----------+-------+--------------------+-----+\n",
      "|2021-06-19 16:00:22|ca86d17200|   2269|United States of ...|35.71|\n",
      "|2021-07-15 18:53:09|ca86d17200|    322|United States of ...|30.79|\n",
      "+-------------------+----------+-------+--------------------+-----+\n",
      "\n"
     ]
    }
   ],
   "source": [
    "# ข้อมูล user_id ของเราเป็นตัวอักษร a-z และตัวเลข 0-9 รวมกันอยู่ 8 ตัว \n",
    "# เราลองเช็คดูว่ามีตัวที่ไม่เป็นไปตามเงื่อนไขนี้มั้ย ด้วยการเช็ครูปแบบ Regular Expression\n",
    "\n",
    "dt_check_userid = spark.sql(\"\"\"\n",
    "SELECT *\n",
    "FROM data\n",
    "WHERE user_id NOT RLIKE '^[a-z0-9]{8}$'\n",
    "\"\"\")\n",
    "dt_check_userid.show()"
   ]
  },
  {
   "cell_type": "code",
   "execution_count": 85,
   "metadata": {},
   "outputs": [
    {
     "name": "stdout",
     "output_type": "stream",
     "text": [
      "+---------+-------+-------+-------+-----+\n",
      "|timestamp|user_id|book_id|country|price|\n",
      "+---------+-------+-------+-------+-----+\n",
      "+---------+-------+-------+-------+-----+\n",
      "\n"
     ]
    }
   ],
   "source": [
    "dt_sql_userid_result = spark.sql(\"\"\"\n",
    "SELECT timestamp,\n",
    "CASE WHEN user_id = 'ca86d17200' THEN 'ca86d172' ELSE user_id END AS user_id,\n",
    "book_id, country, price\n",
    "FROM data\n",
    "\"\"\")\n",
    "\n",
    "dt_sql_userid_result.where( dt_sql_userid_result.user_id == 'ca86d17200' ).show()"
   ]
  },
  {
   "cell_type": "code",
   "execution_count": 91,
   "metadata": {},
   "outputs": [
    {
     "name": "stdout",
     "output_type": "stream",
     "text": [
      "+---------+-------+-------+-------+-----+\n",
      "|timestamp|user_id|book_id|country|price|\n",
      "+---------+-------+-------+-------+-----+\n",
      "+---------+-------+-------+-------+-----+\n",
      "\n"
     ]
    }
   ],
   "source": [
    "dt_nullist = spark.sql(\"\"\"\n",
    "SELECT timestamp,\n",
    "CASE WHEN user_id is NULL THEN '000000' ELSE user_id END AS user_id,\n",
    "book_id, country, price\n",
    "FROM data\n",
    "\"\"\")\n",
    "\n",
    "dt_nullist.where( dt_nullist.user_id.isNull() ).show()"
   ]
  },
  {
   "cell_type": "code",
   "execution_count": 92,
   "metadata": {},
   "outputs": [
    {
     "name": "stdout",
     "output_type": "stream",
     "text": [
      "+-------------------+-------+-------+-------+-----+\n",
      "|          timestamp|user_id|book_id|country|price|\n",
      "+-------------------+-------+-------+-------+-----+\n",
      "|2021-05-01 14:41:20| 000000|    516| Brazil|27.37|\n",
      "|2021-06-30 02:27:00| 000000|   1390|  Japan|27.99|\n",
      "+-------------------+-------+-------+-------+-----+\n",
      "\n"
     ]
    }
   ],
   "source": [
    "dt_nullist.where( dt_nullist.user_id == '000000').show()"
   ]
  }
 ],
 "metadata": {
  "interpreter": {
   "hash": "a42ccb73e7d9bfdf27e036f1d2b8b681e55fc0743cc5586bc2474d4a60f4b886"
  },
  "kernelspec": {
   "display_name": "Python 3.10.4 64-bit",
   "language": "python",
   "name": "python3"
  },
  "language_info": {
   "codemirror_mode": {
    "name": "ipython",
    "version": 3
   },
   "file_extension": ".py",
   "mimetype": "text/x-python",
   "name": "python",
   "nbconvert_exporter": "python",
   "pygments_lexer": "ipython3",
   "version": "3.10.4"
  },
  "orig_nbformat": 4
 },
 "nbformat": 4,
 "nbformat_minor": 2
}
