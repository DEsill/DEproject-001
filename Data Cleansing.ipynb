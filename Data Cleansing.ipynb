{
 "cells": [
  {
   "cell_type": "code",
   "execution_count": 1,
   "metadata": {},
   "outputs": [],
   "source": [
    "from pyspark.sql import SparkSession\n",
    "spark = SparkSession.builder.master(\"local[*]\").getOrCreate()"
   ]
  },
  {
   "cell_type": "code",
   "execution_count": 4,
   "metadata": {},
   "outputs": [],
   "source": [
    "dt = spark.read.csv('ws2_data.csv', header = True, inferSchema = True, )"
   ]
  },
  {
   "cell_type": "code",
   "execution_count": 6,
   "metadata": {},
   "outputs": [
    {
     "name": "stdout",
     "output_type": "stream",
     "text": [
      "+-------+---------+-------+-------+-------+------+\n",
      "|summary|timestamp|user_id|book_id|country| price|\n",
      "+-------+---------+-------+-------+-------+------+\n",
      "|  count|   500000| 499998| 500000| 500000|500000|\n",
      "+-------+---------+-------+-------+-------+------+\n",
      "\n",
      "None\n"
     ]
    }
   ],
   "source": [
    "# Data Profiling\n",
    "print(dt.summary(\"count\").show())"
   ]
  },
  {
   "cell_type": "code",
   "execution_count": 7,
   "metadata": {},
   "outputs": [
    {
     "name": "stdout",
     "output_type": "stream",
     "text": [
      "+-------------------+-------+-------+-------+-----+\n",
      "|          timestamp|user_id|book_id|country|price|\n",
      "+-------------------+-------+-------+-------+-----+\n",
      "|2021-05-01 14:41:20|   null|    516| Brazil|27.37|\n",
      "|2021-06-30 02:27:00|   null|   1390|  Japan|27.99|\n",
      "+-------------------+-------+-------+-------+-----+\n",
      "\n",
      "None\n"
     ]
    }
   ],
   "source": [
    "print(dt.where( dt.user_id.isNull()).show())"
   ]
  },
  {
   "cell_type": "code",
   "execution_count": null,
   "metadata": {},
   "outputs": [],
   "source": [
    "# Data Cleansing 01\n",
    "print(dt.show())"
   ]
  }
 ],
 "metadata": {
  "interpreter": {
   "hash": "a42ccb73e7d9bfdf27e036f1d2b8b681e55fc0743cc5586bc2474d4a60f4b886"
  },
  "kernelspec": {
   "display_name": "Python 3.10.4 64-bit",
   "language": "python",
   "name": "python3"
  },
  "language_info": {
   "codemirror_mode": {
    "name": "ipython",
    "version": 3
   },
   "file_extension": ".py",
   "mimetype": "text/x-python",
   "name": "python",
   "nbconvert_exporter": "python",
   "pygments_lexer": "ipython3",
   "version": "3.10.4"
  },
  "orig_nbformat": 4
 },
 "nbformat": 4,
 "nbformat_minor": 2
}
